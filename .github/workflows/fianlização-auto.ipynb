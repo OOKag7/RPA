import smtplib
from email.mime.multipart import MIMEMultipart
from email.mime.text import MIMEText
from email.mime.image import MIMEImage
from smtplib import SMTP
import pandas as pd
import numpy as nd
import html

#definindo variaveis
tabela = pd.read_excel ("abertura.xlsx") 
abertura_df = pd.read_excel("abertura.xlsx")
abertura_df2 = abertura_df.dropna()
abertura_importada = pd.ExcelWriter("abertura_importada.xlsx")
abertura_df2.to_excel(abertura_importada,'importados', index=False)
abertura_importada.save()
abertura_limpa = pd.read_excel("abertura_importada.xlsx")
contagem = len(abertura_limpa.axes[0])
lin = 0 

while lin <= contagem:

    BANCO = abertura_limpa.loc[lin,'Banco']
    EMPRESA = abertura_limpa.loc[lin,'Empresa']
    CNPJ = abertura_limpa.loc[lin,'cnpj']
    AG = abertura_limpa.loc[lin,'agencia']
    CC = abertura_limpa.loc[lin,'conta']
    CON = abertura_limpa.loc[lin,'convenio']
    REM_BANCO = abertura_limpa.loc[lin,'remessa']
    RET_BANCO = abertura_limpa.loc[lin,'retorno']
    EMAIL = abertura_limpa.loc[lin,'email']
    EMAIL1 = abertura_limpa.loc[lin,'copia']
    EMAIL2 = abertura_limpa.loc[lin,'copia2']
    recipients = [EMAIL,EMAIL1,EMAIL2]
    
    assinatura = '<div>Muito obrigado pela atenção, qualquer duvida estou à disposição</div><div>Atenciosamente,</div><div>&nbsp;</div><div> <table border="0" cellspacing="0" cellpadding="0"> <tbody> <tr> <td valign="top" width="100"><img src="https://finnet.com.br/wp-content/uploads/2020/10/cropped-favicon.png" alt="image.png" width="96" height="90"/><span style="color: #888888;"><br/></span></td><td valign="top"> <table border="0" cellspacing="0" cellpadding="0"> <tbody> <tr> <td> <div><strong>Otavio Lopes Feitosa<br/></strong></div></td></tr><tr> <td> <div><span>Analista de implantação/ Onboard</span></div></td></tr><tr> <td>(11) 3882-9200</td></tr><tr> <td><span><a href="http://www.finnet.com.br/" rel="noopener" target="_blank">www.finnet.com.br</a></span></td></tr><tr> <td><a href="mailto:otavio.feitosa@finnet.com.br" target="_blank">otavio.feitosa@finnet.com.br</a></td></tr></tbody> </table> </td><td valign="middle"> <table border="0" cellspacing="0" cellpadding="0"> <tbody> <tr> <td><a href="https://www.linkedin.com/company/finnet-/" target="_blank"><img src="https://ci4.googleusercontent.com/proxy/Q_Mjay34V4NOoLQ4oj0xFeVUc2zKZWqLlP1y12Xcr4Dwyy_kI7C_ngpL8Qd7u5VM9w=s0-d-e1-ft#https://i.ibb.co/H76MTPw/1.jpg" alt="" width="22"/></a></td></tr><tr> <td><a href="https://www.facebook.com/finnetbrasil/" target="_blank"><img src="https://ci6.googleusercontent.com/proxy/wz7ymU3fGS_VhPvAhf2lpujzWWp9pMyy74V7jgqHQ9XgX9s2vyXZkxtNCJAn5ypRzA=s0-d-e1-ft#https://i.ibb.co/7G9PMMk/2.jpg" alt="" width="22" height="22"/></a></td></tr><tr> <td><a href="https://www.instagram.com/Finnetbrasil/" target="_blank"><img src="https://ci3.googleusercontent.com/proxy/MH5PC5K28BonY589PrtqJ9CDQbIoHjUjL-6ToN8zo6s-BVUqZVPraN9LBkFP5JOcHQ=s0-d-e1-ft#https://i.ibb.co/qYFVgPf/3.jpg" alt="" width="22" height="22"/></a></td></tr></tbody> </table> </td></tr></tbody> </table> </div><div>&nbsp;</div><div> <div> <div><strong><em>Finnet: Aliando tecnologia financeira &agrave; gera&ccedil;&atilde;o de cr&eacute;dito, por meio do maior marketplace do Brasil, com acesso &agrave;s maiores institui&ccedil;&otilde;es financeiras.</em></strong></div></div></div>'

    rost = "smtp.gmail.com"
    port = "587"
    login = "otavio.feitosa@finnet.com.br"
    senha = "Finnet@2021"

    server: SMTP = smtplib.SMTP(rost, port)
    smtplib.SMTP_SSL(rost, 465)
    server.ehlo()
    server.starttls()
    server.login(login, senha)

    corpo = f"""
        <img src="https://i.imgur.com/qnyk2bT.png" width="700px"/>
        <p>Prezados,</p> 

        <p>Informo que foi finalizada a configuração para o tráfego de arquivo cobrança do convênio abaixo:</p>
        <br/><br/>
        <p>Banco: {BANCO}</p>
        <p>Empresa:{EMPRESA}<p>
        <p>CNPJ: {CNPJ}<p>
        <p>Produto:Cobrança<p>
        <p>Agência:{AG}<p>
        <p>Conta:{CC}<p>
        <p>Convênio:{CON}<p>
        <p>DSName Remessa:{REM_BANCO}<p>
        <p>DSName Retorno:{RET_BANCO}<p>
        <br/><br/>
        <div style='background:yellow;width:540px;'>
            <p>📌Por gentileza informar após o cadastro para o acompanhamento do arquivo em produção.</p>
        </div>
        {assinatura}
        """
    email_msg = MIMEMultipart()
    email_msg['From'] = login
    email_msg['To'] = ", ".join(recipients)
    email_msg['Subject'] = f"Finalizacao de configuração - {EMPRESA}"
    email_msg.attach(MIMEText(corpo,'html'))

    server.sendmail(email_msg['From'],email_msg['To'],email_msg.as_string())

    
    
    lin += 1
server.quit()
